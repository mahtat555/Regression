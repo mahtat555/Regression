{
 "cells": [
  {
   "cell_type": "markdown",
   "metadata": {},
   "source": [
    "# Cross validation\n",
    "\n",
    "### 1$-$ [KFold](#kfold)\n",
    "\n",
    "### 2$-$ [ShuffleSplit](#shufflesplit)\n",
    "\n",
    "### 3$-$ [StratifiedKFold](#stratifiedkfold)\n",
    "\n",
    "### 4$-$ [GroupKFold](#groupkfold)\n",
    "\n",
    "## Iris flower data set"
   ]
  },
  {
   "cell_type": "code",
   "execution_count": 1,
   "metadata": {},
   "outputs": [
    {
     "name": "stdout",
     "output_type": "stream",
     "text": [
      "dataset size:  (150, 4)\n"
     ]
    },
    {
     "data": {
      "image/png": "[encoded data removed]",
      "text/plain": [
       "<Figure size 432x288 with 1 Axes>"
      ]
     },
     "metadata": {
      "needs_background": "light"
     },
     "output_type": "display_data"
    }
   ],
   "source": [
    "import numpy as np\n",
    "import matplotlib.pyplot as plt\n",
    "from sklearn.datasets import load_iris\n",
    "\n",
    "# Dataset\n",
    "iris = load_iris()\n",
    "X, y = iris.data, iris.target\n",
    "print(\"dataset size: \", X.shape)\n",
    "\n",
    "# plot the dataset\n",
    "_ = plt.scatter(X[:, 0], X[:, 1], c=y, alpha=0.8)"
   ]
  },
  {
   "cell_type": "markdown",
   "metadata": {},
   "source": [
    "<a name=\"kfold\"></a>\n",
    "## 1$-$ KFold\n",
    "\n",
    "**It is the best known and simple cross validation strategy**\n",
    "\n",
    "**Steps:**\n",
    ">$-$ Split the dataset into $k$ equal folds. \\\n",
    ">$-$ At each iteration, the model is trained on $k-1$ folds and is tested on the remaining fold."
   ]
  },
  {
   "cell_type": "code",
   "execution_count": 2,
   "metadata": {},
   "outputs": [
    {
     "data": {
      "text/plain": [
       "array([0.96666667, 0.9       , 1.        , 1.        , 0.93333333])"
      ]
     },
     "execution_count": 2,
     "metadata": {},
     "output_type": "execute_result"
    }
   ],
   "source": [
    "from sklearn.neighbors import KNeighborsClassifier\n",
    "from sklearn.model_selection import cross_val_score\n",
    "from sklearn.model_selection import KFold\n",
    "\n",
    "# Create a classification model\n",
    "model = KNeighborsClassifier()\n",
    "\n",
    "# k-fold cross validation\n",
    "cv = KFold(5, shuffle=True, random_state=0)\n",
    "cross_val_score(model, X, y, cv=cv)"
   ]
  },
  {
   "cell_type": "markdown",
   "metadata": {},
   "source": [
    "### $\\blacktriangleright$ Leave One Out\n",
    "\n",
    "**In this special case, the number of splits (folds) is equal to \n",
    "the number of samples we have in our train-set.**"
   ]
  },
  {
   "cell_type": "code",
   "execution_count": 3,
   "metadata": {},
   "outputs": [
    {
     "data": {
      "text/plain": [
       "array([1., 1., 1., 1., 1., 1., 1., 1., 1., 1., 1., 1., 1., 1., 1., 1., 1.,\n",
       "       1., 1., 1., 1., 1., 1., 1., 1., 1., 1., 1., 1., 1., 1., 1., 1., 1.,\n",
       "       1., 1., 1., 1., 1., 1., 1., 1., 1., 1., 1., 1., 1., 1., 1., 1., 1.,\n",
       "       1., 1., 1., 1., 1., 1., 1., 1., 1., 1., 1., 1., 1., 1., 1., 1., 1.,\n",
       "       1., 1., 0., 1., 0., 1., 1., 1., 1., 1., 1., 1., 1., 1., 1., 0., 1.,\n",
       "       1., 1., 1., 1., 1., 1., 1., 1., 1., 1., 1., 1., 1., 1., 1., 1., 1.,\n",
       "       1., 1., 1., 1., 0., 1., 1., 1., 1., 1., 1., 1., 1., 1., 1., 1., 1.,\n",
       "       0., 1., 1., 1., 1., 1., 1., 1., 1., 1., 1., 1., 1., 1., 1., 1., 1.,\n",
       "       1., 1., 1., 1., 1., 1., 1., 1., 1., 1., 1., 1., 1., 1.])"
      ]
     },
     "execution_count": 3,
     "metadata": {},
     "output_type": "execute_result"
    }
   ],
   "source": [
    "from sklearn.model_selection import LeaveOneOut\n",
    "\n",
    "# Leave One Out cross validation\n",
    "cv = LeaveOneOut()\n",
    "cross_val_score(model, X, y, cv=cv)"
   ]
  },
  {
   "cell_type": "markdown",
   "metadata": {},
   "source": [
    "<a name=\"shufflesplit\"></a>\n",
    "## 2$-$ ShuffleSplit\n",
    "\n",
    "\n",
    "**repeat** as many times as we want with the same `proportion`:\n",
    ">1. `Shuffle` the dataset.\n",
    "    >2. $-$ `Define` a portion (%) for the `test` (validation),\\\n",
    "     $-$ `Define` a portion (%) for `training`.\n",
    ">3. `Training` and `evaluates` the model.\n",
    ">4. `Regroup` the dataset again\n"
   ]
  },
  {
   "cell_type": "code",
   "execution_count": 4,
   "metadata": {},
   "outputs": [
    {
     "data": {
      "text/plain": [
       "array([1.        , 1.        , 1.        , 0.96666667, 0.93333333])"
      ]
     },
     "execution_count": 4,
     "metadata": {},
     "output_type": "execute_result"
    }
   ],
   "source": [
    "from sklearn.model_selection import ShuffleSplit\n",
    "\n",
    "# Create a classification model\n",
    "model = KNeighborsClassifier()\n",
    "\n",
    "# k-fold cross validation\n",
    "cv = ShuffleSplit(5, test_size=0.2)\n",
    "cross_val_score(model, X, y, cv=cv)"
   ]
  },
  {
   "cell_type": "markdown",
   "metadata": {},
   "source": [
    "<a name=\"stratifiedkfold\"></a>\n",
    "## 3$-$ StratifiedKFold\n",
    "\n",
    "**for solving the problem of unbalanced classes we will use the `StratifiedKFold` method**\n",
    "\n",
    "<br>\n",
    "\n",
    "<div style=\"display:flex;\">\n",
    "    <div style=\"width:100px\"> Dataset: </div>\n",
    "    <div style=\"color:#808080;background-color:#808080;width:700px\">.</div>\n",
    "</div>\n",
    "<br>\n",
    "<div style=\"display:flex;\">\n",
    "    <div style=\"width:100px\"> Classes: </div>\n",
    "    <div style=\"color:#FFB6C1;background-color:#FFB6C1;width:100px\">.</div>\n",
    "    <div style=\"color:#FAEBD7;background-color:#FAEBD7;width:200px\">.</div>\n",
    "    <div style=\"color:#DDA0DD;background-color:#DDA0DD;width:400px\">.</div>\n",
    "</div>\n",
    "<br>\n",
    "<div style=\"display:flex;\">\n",
    "    <div style=\"width:80px\"> Splits: </div>\n",
    "    <div>\n",
    "        <div style=\"display:flex;\">\n",
    "            <div style=\"width:20px\"> 1- </div>\n",
    "            <div style=\"color:#B0E0E6;background-color:#B0E0E6;width:25px\">.</div>\n",
    "            <div style=\"color:#90EE90;background-color:#90EE90;width:75px\">.</div>\n",
    "            <div style=\"color:#B0E0E6;background-color:#B0E0E6;width:50px\">.</div>\n",
    "            <div style=\"color:#90EE90;background-color:#90EE90;width:150px\">.</div>\n",
    "            <div style=\"color:#B0E0E6;background-color:#B0E0E6;width:100px\">.</div>\n",
    "            <div style=\"color:#90EE90;background-color:#90EE90;width:300px\">.</div>\n",
    "        </div>\n",
    "        <div style=\"display:flex;margin-top:10px\">\n",
    "            <div style=\"width:20px;\"> 2- </div>\n",
    "            <div style=\"color:#90EE90;background-color:#90EE90;width:25px\">.</div>\n",
    "            <div style=\"color:#B0E0E6;background-color:#B0E0E6;width:25px\">.</div>\n",
    "            <div style=\"color:#90EE90;background-color:#90EE90;width:100px\">.</div>\n",
    "            <div style=\"color:#B0E0E6;background-color:#B0E0E6;width:50px\">.</div>\n",
    "            <div style=\"color:#90EE90;background-color:#90EE90;width:200px\">.</div>\n",
    "            <div style=\"color:#B0E0E6;background-color:#B0E0E6;width:100px\">.</div>\n",
    "            <div style=\"color:#90EE90;background-color:#90EE90;width:200px\">.</div>\n",
    "        </div>\n",
    "        <div style=\"width:100px\"> ... </div>\n",
    "        <div style=\"display:flex;margin-top:10px\">\n",
    "            <div style=\"width:20px;\"> k- </div>\n",
    "            <div style=\"color:#90EE90;background-color:#90EE90;width:75px\">.</div>\n",
    "            <div style=\"color:#B0E0E6;background-color:#B0E0E6;width:25px\">.</div>\n",
    "            <div style=\"color:#90EE90;background-color:#90EE90;width:150px\">.</div>\n",
    "            <div style=\"color:#B0E0E6;background-color:#B0E0E6;width:50px\">.</div>\n",
    "            <div style=\"color:#90EE90;background-color:#90EE90;width:300px\">.</div>\n",
    "            <div style=\"color:#B0E0E6;background-color:#B0E0E6;width:100px\">.</div>\n",
    "        </div>\n",
    "    </div>\n",
    "</div>\n",
    "<hr>\n",
    "<div style=\"display:flex;\">\n",
    "    <div style=\"color:#90EE90;background-color:#90EE90;width:25px\"></div>\n",
    "    <div style=\"width:100px;margin-left:20px\"> Train-set </div>\n",
    "    <div style=\"color:#B0E0E6;background-color:#B0E0E6;width:25px\"></div>\n",
    "    <div style=\"width:100px;margin-left:20px\"> Test-set </div>\n",
    "</div>"
   ]
  },
  {
   "cell_type": "code",
   "execution_count": 7,
   "metadata": {},
   "outputs": [
    {
     "data": {
      "text/plain": [
       "array([0.96666667, 1.        , 0.93333333, 0.96666667, 1.        ])"
      ]
     },
     "execution_count": 7,
     "metadata": {},
     "output_type": "execute_result"
    }
   ],
   "source": [
    "from sklearn.model_selection import StratifiedKFold\n",
    "\n",
    "# Create a classification model\n",
    "model = KNeighborsClassifier()\n",
    "\n",
    "# k-fold cross validation\n",
    "cv = StratifiedKFold(5)\n",
    "cross_val_score(model, X, y, cv=cv)"
   ]
  },
  {
   "cell_type": "markdown",
   "metadata": {},
   "source": [
    "<a name=\"groupkfold\"></a>\n",
    "## 4$-$ GroupKFold"
   ]
  }
 ],
 "metadata": {
  "kernelspec": {
   "display_name": "Python 3",
   "language": "python",
   "name": "python3"
  },
  "language_info": {
   "codemirror_mode": {
    "name": "ipython",
    "version": 3
   },
   "file_extension": ".py",
   "mimetype": "text/x-python",
   "name": "python",
   "nbconvert_exporter": "python",
   "pygments_lexer": "ipython3",
   "version": "3.8.5"
  }
 },
 "nbformat": 4,
 "nbformat_minor": 4
}

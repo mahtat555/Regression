{
 "cells": [
  {
   "cell_type": "markdown",
   "metadata": {},
   "source": [
    "# Pre-processing\n",
    "\n",
    "### 1$-$ [Encoding](#encoding)\n",
    "\n",
    "### 2$-$ [Normalization](#normalization)\n",
    "\n",
    "### 3$-$ [Imputation](#imputation)\n",
    "\n",
    "### 4$-$ [Selection](#selection)\n",
    "\n",
    "### 5$-$ [Extraction](#extraction)"
   ]
  },
  {
   "cell_type": "markdown",
   "metadata": {},
   "source": [
    "<a name=\"encoding\"></a>\n",
    "## 1$-$ Encoding\n",
    "\n",
    "**Is to convert qualitative data into numeric values.**\n",
    "\n",
    "### 1.a $-$ Ordinal encoding.\n",
    "\n",
    "- LabelEncode.\n",
    "- OrdinalEncoder."
   ]
  },
  {
   "cell_type": "code",
   "execution_count": 1,
   "metadata": {},
   "outputs": [],
   "source": [
    "# LabelEncode :\n",
    "# -> Used for process a single column.\n",
    "\n",
    "import numpy as np\n",
    "import matplotlib.pyplot as plt\n",
    "from sklearn.preprocessing import LabelEncoder"
   ]
  },
  {
   "cell_type": "code",
   "execution_count": 2,
   "metadata": {},
   "outputs": [],
   "source": [
    "# Data\n",
    "y = np.array([\"cat\", \"dog\", \"cat\", \"bird\"])"
   ]
  },
  {
   "cell_type": "code",
   "execution_count": 3,
   "metadata": {},
   "outputs": [
    {
     "data": {
      "text/plain": [
       "LabelEncoder()"
      ]
     },
     "execution_count": 3,
     "metadata": {},
     "output_type": "execute_result"
    }
   ],
   "source": [
    "# Create an object of the LabelEncoder class.\n",
    "encoder = LabelEncoder()\n",
    "\n",
    "# Develop the encoder with fit() method\n",
    "encoder.fit(y)"
   ]
  },
  {
   "cell_type": "code",
   "execution_count": 5,
   "metadata": {},
   "outputs": [
    {
     "data": {
      "text/plain": [
       "array(['bird', 'cat', 'dog'], dtype='<U4')"
      ]
     },
     "execution_count": 5,
     "metadata": {},
     "output_type": "execute_result"
    }
   ],
   "source": [
    "# Categories\n",
    "# We have three classes\n",
    "encoder.classes_"
   ]
  },
  {
   "cell_type": "code",
   "execution_count": 6,
   "metadata": {},
   "outputs": [
    {
     "data": {
      "text/plain": [
       "array([1, 2, 1, 0])"
      ]
     },
     "execution_count": 6,
     "metadata": {},
     "output_type": "execute_result"
    }
   ],
   "source": [
    "# Used our transformer to process our future data.\n",
    "\n",
    "# Notice :\n",
    "# >>> encoder.fit(y)\n",
    "# >>> encoder.transform(y)\n",
    "# equivalent to\n",
    "# >>> encoder.fit_transform()\n",
    "\n",
    "encoder.transform(y)"
   ]
  },
  {
   "cell_type": "code",
   "execution_count": 7,
   "metadata": {},
   "outputs": [
    {
     "data": {
      "text/plain": [
       "array(['dog', 'cat', 'dog', 'bird'], dtype='<U4')"
      ]
     },
     "execution_count": 7,
     "metadata": {},
     "output_type": "execute_result"
    }
   ],
   "source": [
    "# Decode our data with `inverse_transform`.\n",
    "\n",
    "encoder.inverse_transform(np.array([2, 1, 2, 0]))"
   ]
  },
  {
   "cell_type": "code",
   "execution_count": 8,
   "metadata": {},
   "outputs": [],
   "source": [
    "# OrdinalEncoder :\n",
    "# -> Used for process several columns.\n",
    "\n",
    "from sklearn.preprocessing import OrdinalEncoder"
   ]
  },
  {
   "cell_type": "code",
   "execution_count": 9,
   "metadata": {},
   "outputs": [],
   "source": [
    "# Data\n",
    "X = np.array([[\"cat\", \"fur\"],\n",
    "              [\"dog\", \"fur\"],\n",
    "              [\"cat\", \"fur\"],\n",
    "              [\"bird\", \"feathers\"]])"
   ]
  },
  {
   "cell_type": "code",
   "execution_count": 10,
   "metadata": {},
   "outputs": [
    {
     "data": {
      "text/plain": [
       "array([[1., 1.],\n",
       "       [2., 1.],\n",
       "       [1., 1.],\n",
       "       [0., 0.]])"
      ]
     },
     "execution_count": 10,
     "metadata": {},
     "output_type": "execute_result"
    }
   ],
   "source": [
    "# Create an object of the LabelEncoder class.\n",
    "encoder = OrdinalEncoder()\n",
    "\n",
    "# Develop our transformer and transform our data\n",
    "encoder.fit_transform(X)"
   ]
  }
 ],
 "metadata": {
  "kernelspec": {
   "display_name": "Python 3",
   "language": "python",
   "name": "python3"
  },
  "language_info": {
   "codemirror_mode": {
    "name": "ipython",
    "version": 3
   },
   "file_extension": ".py",
   "mimetype": "text/x-python",
   "name": "python",
   "nbconvert_exporter": "python",
   "pygments_lexer": "ipython3",
   "version": "3.8.5"
  }
 },
 "nbformat": 4,
 "nbformat_minor": 4
}

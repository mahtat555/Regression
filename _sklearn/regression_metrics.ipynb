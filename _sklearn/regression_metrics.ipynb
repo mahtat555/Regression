{
 "cells": [
  {
   "cell_type": "markdown",
   "metadata": {},
   "source": [
    "# Regression Metrics\n",
    "\n",
    "<hr>\n",
    "\n",
    "1. MSE $-$ Mean Squared Error $$\\text{MSE} = \\frac{1}{m} \\sum (y - y_{pred}) ^ 2$$\n",
    "\n",
    "<hr>\n",
    "    \n",
    "2. MAE $-$ Mean Absolute Error $$\\text{MAE} = \\frac{1}{m} \\sum |y - y_{pred}|$$\n",
    "\n",
    "<hr>\n",
    "\n",
    "3. Median Absolute Error $$\\text{Median} = \\text{median} \\{ |y - y_{pred}| \\} $$\n",
    "\n",
    "<hr>\n",
    " \n",
    "4. R2 $-$ Coefficient of Determination $$\\text{R2}\\ =\\ 1 - \\frac{\\text{MSE}}{\\text{Variance}}\\ =\\ 1 - \\frac{\\sum (y - y_{pred}) ^ 2}{\\sum (y - \\bar{y}) ^ 2}$$\n",
    "\n",
    "<hr>\n",
    " \n",
    "5. ..."
   ]
  },
  {
   "cell_type": "code",
   "execution_count": 1,
   "metadata": {},
   "outputs": [],
   "source": [
    "import numpy as np\n",
    "import matplotlib.pyplot as plt\n",
    "from sklearn.datasets import load_boston\n",
    "from sklearn.linear_model import LinearRegression"
   ]
  },
  {
   "cell_type": "markdown",
   "metadata": {},
   "source": [
    "## Boston property price dataset"
   ]
  },
  {
   "cell_type": "code",
   "execution_count": 2,
   "metadata": {},
   "outputs": [
    {
     "data": {
      "image/png": "[encoded data removed]",
      "text/plain": [
       "<Figure size 432x288 with 1 Axes>"
      ]
     },
     "metadata": {
      "needs_background": "light"
     },
     "output_type": "display_data"
    }
   ],
   "source": [
    "# Boston property price dataset\n",
    "boston = load_boston()\n",
    "X = boston.data\n",
    "y = boston.target\n",
    "\n",
    "# Create a linear model\n",
    "model = LinearRegression()\n",
    "\n",
    "# Training\n",
    "model.fit(X, y)\n",
    "\n",
    "# Predict\n",
    "y_pred = model.predict(X)\n",
    "\n",
    "# Plot\n",
    "plt.scatter(X[:, 5], y, label=\"y\")\n",
    "plt.scatter(X[:, 5], y_pred, label=\"y_pred\")\n",
    "_ = plt.legend()"
   ]
  },
  {
   "cell_type": "markdown",
   "metadata": {},
   "source": [
    "## Some important metrics"
   ]
  },
  {
   "cell_type": "code",
   "execution_count": 3,
   "metadata": {},
   "outputs": [
    {
     "name": "stdout",
     "output_type": "stream",
     "text": [
      "Mean Squared Error:\n",
      " 21.894831181729202\n",
      "\n",
      "Mean Absolute Error:\n",
      " 3.270862810900316\n",
      "\n",
      "Median Absolute Error:\n",
      " 2.4523106771444656\n"
     ]
    }
   ],
   "source": [
    "from sklearn.metrics import (\n",
    "    mean_squared_error, mean_absolute_error, median_absolute_error)\n",
    "\n",
    "# MSE − Mean Squared Error\n",
    "mse = mean_squared_error(y, y_pred)\n",
    "print(\"Mean Squared Error:\\n\", mse)\n",
    "\n",
    "# MAE − Mean Absolute Error\n",
    "mae = mean_absolute_error(y, y_pred)\n",
    "print(\"\\nMean Absolute Error:\\n\", mae)\n",
    "\n",
    "# Median Absolute Error\n",
    "median = median_absolute_error(y, y_pred)\n",
    "print(\"\\nMedian Absolute Error:\\n\", median)"
   ]
  },
  {
   "cell_type": "markdown",
   "metadata": {},
   "source": [
    "## Distribution of absolute errors"
   ]
  },
  {
   "cell_type": "code",
   "execution_count": 4,
   "metadata": {},
   "outputs": [
    {
     "name": "stdout",
     "output_type": "stream",
     "text": [
      "Remark:\n",
      "| Our errors follow an exponential distribution law\n",
      "\n",
      "The number of errors that are greater than 5000 $:  828.5488175251088\n"
     ]
    },
    {
     "data": {
      "image/png": "[encoded data removed]",
      "text/plain": [
       "<Figure size 432x288 with 1 Axes>"
      ]
     },
     "metadata": {
      "needs_background": "light"
     },
     "output_type": "display_data"
    }
   ],
   "source": [
    "# Histogram (Distribution) of absolute errors\n",
    "abs_errors = np.abs(y - y_pred)\n",
    "distribution, errors, _ = plt.hist(abs_errors, bins=50)\n",
    "plt.title(\"Distribution of absolute errors\")\n",
    "\n",
    "# Our errors follow an exponential distribution law\n",
    "print(\"Remark:\\n| Our errors follow an exponential distribution law\\n\")\n",
    "\n",
    "# The number of errors that are greater than 5000 $\n",
    "print(\"The number of errors that are greater than 5000 $: \", \n",
    "      abs_errors[abs_errors>5].sum())"
   ]
  },
  {
   "cell_type": "markdown",
   "metadata": {},
   "source": [
    "## Coefficient of determination"
   ]
  },
  {
   "cell_type": "code",
   "execution_count": 5,
   "metadata": {},
   "outputs": [
    {
     "name": "stdout",
     "output_type": "stream",
     "text": [
      "Coefficient of determination:  0.7406426641094095\n",
      "\n",
      "Interpretation the results:\n",
      "| Our model describes 74% of the real estate price variables\n"
     ]
    }
   ],
   "source": [
    "# Coefficient of determination\n",
    "coe_det = model.score(X, y)\n",
    "print(\"Coefficient of determination: \", coe_det)\n",
    "\n",
    "# Interpretation the results\n",
    "percentage = round(coe_det * 100)\n",
    "print(\"\\nInterpretation the results:\\n| \"\n",
    "      f\"Our model describes {percentage}% of the real estate price variables\")"
   ]
  },
  {
   "cell_type": "markdown",
   "metadata": {},
   "source": [
    "## Use metrics in cross-validation"
   ]
  },
  {
   "cell_type": "code",
   "execution_count": 6,
   "metadata": {},
   "outputs": [
    {
     "name": "stdout",
     "output_type": "stream",
     "text": [
      "List of metrics: \n",
      "|-  accuracy\n",
      "|-  adjusted_mutual_info_score\n",
      "|-  adjusted_rand_score\n",
      "|-  average_precision\n",
      "|   ...\n",
      "|-  v_measure_score\n",
      "\n",
      "Use `neg_mean_absolute_error` mtric in cross-validation:\n",
      "[-2.62190565 -3.90725478 -4.386606   -5.57073637 -4.76333993]\n"
     ]
    }
   ],
   "source": [
    "# To use metrics in cross-validation\n",
    "from sklearn.model_selection import cross_val_score\n",
    "from sklearn.metrics import SCORERS\n",
    "\n",
    "# List of metrics\n",
    "list_metrics = sorted(SCORERS.keys())\n",
    "print(\"List of metrics: \")\n",
    "for metric in list_metrics[:4]:\n",
    "    print(\"|- \", metric)\n",
    "print(\"|   ...\")\n",
    "print(\"|- \", list_metrics[-1])\n",
    "\n",
    "# Use `neg_mean_absolute_error` mtric in cross-validation\n",
    "print(\"\\nUse `neg_mean_absolute_error` mtric in cross-validation:\")\n",
    "val_score = cross_val_score(model, X, y, cv=5, scoring=\"neg_mean_absolute_error\")\n",
    "print(val_score)"
   ]
  }
 ],
 "metadata": {
  "kernelspec": {
   "display_name": "Python 3",
   "language": "python",
   "name": "python3"
  },
  "language_info": {
   "codemirror_mode": {
    "name": "ipython",
    "version": 3
   },
   "file_extension": ".py",
   "mimetype": "text/x-python",
   "name": "python",
   "nbconvert_exporter": "python",
   "pygments_lexer": "ipython3",
   "version": "3.8.5"
  }
 },
 "nbformat": 4,
 "nbformat_minor": 4
}

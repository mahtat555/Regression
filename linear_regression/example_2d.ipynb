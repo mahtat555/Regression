{
 "cells": [
  {
   "cell_type": "markdown",
   "metadata": {},
   "source": [
    "# Linear Regression\n",
    "\n",
    "`In this exercise, we will extract the four fundamental notions for\n",
    "supervised learning, through an example of linear regression on\n",
    "two-dimensional data.`\n"
   ]
  },
  {
   "cell_type": "code",
   "execution_count": 1,
   "metadata": {},
   "outputs": [],
   "source": [
    "# Import the necessary packages\n",
    "\n",
    "import numpy as np\n",
    "import matplotlib.pyplot as plt\n",
    "from sklearn.datasets import make_regression\n"
   ]
  },
  {
   "cell_type": "markdown",
   "metadata": {},
   "source": [
    "# 1. Dataset : (X, y) ;  m = 100,  n = 1"
   ]
  },
  {
   "cell_type": "code",
   "execution_count": 3,
   "metadata": {},
   "outputs": [
    {
     "data": {
      "image/png": "[encoded data removed]",
      "text/plain": [
       "<Figure size 432x288 with 1 Axes>"
      ]
     },
     "metadata": {
      "needs_background": "light"
     },
     "output_type": "display_data"
    }
   ],
   "source": [
    "x, y = make_regression(n_samples=100, n_features=1, noise=10)\n",
    "\n",
    "# show the dataset\n",
    "plt.title(\"dataset\")\n",
    "fig_1 = plt.scatter(x, y)"
   ]
  },
  {
   "cell_type": "code",
   "execution_count": 4,
   "metadata": {},
   "outputs": [],
   "source": [
    "# Transform the dataset into matrices.\n",
    "# That is used for writing the equations in the matrix form.\n",
    "X = np.hstack((x, np.ones(x.shape)))\n",
    "Y = y.reshape(y.shape[0], 1)"
   ]
  },
  {
   "cell_type": "markdown",
   "metadata": {},
   "source": [
    "# 2. Model :\n",
    "\n",
    "- Linear function : $$ f(x) = a x + b $$\n",
    "\n",
    "- The role of the machine is to find the parameters $a$ and $b$\n",
    "\n",
    "- In the matrix form:\n",
    "$$F = X \\theta ; \\quad \\text{with} \\quad X = \\left[\\begin{array}{ccc}x^{1} & 1 \\\\ \\vdots & \\vdots\\\\ x^{m} & 1\\end{array}\\right] \\quad \\text{and} \\quad \\theta = \\left[\\begin{array}{ccc}a \\\\ b \\end{array}\\right]$$"
   ]
  },
  {
   "cell_type": "code",
   "execution_count": 5,
   "metadata": {},
   "outputs": [],
   "source": [
    "def model(data_x, parameters):\n",
    "    \"\"\" This function returns the linear model\n",
    "\n",
    "    \"\"\"\n",
    "    return data_x @ parameters"
   ]
  },
  {
   "cell_type": "code",
   "execution_count": 7,
   "metadata": {},
   "outputs": [
    {
     "data": {
      "image/png": "[encoded data removed]",
      "text/plain": [
       "<Figure size 432x288 with 1 Axes>"
      ]
     },
     "metadata": {
      "needs_background": "light"
     },
     "output_type": "display_data"
    }
   ],
   "source": [
    "# initial parameters\n",
    "init_theta = np.random.randn(2, 1)\n",
    "\n",
    "# initial model\n",
    "init_model = model(X, init_theta)\n",
    "\n",
    "# plot initial model\n",
    "plt.title(\"initial model\")\n",
    "plt.scatter(x, y)\n",
    "fig_2 = plt.plot(x, init_model, c='g')"
   ]
  },
  {
   "cell_type": "markdown",
   "metadata": {},
   "source": [
    "# 3. cost function :\n",
    "\n",
    "- Residual sum of squares : $$ J(a, b) = \\frac{1}{2m} \\sum_{i = 1}^{m} \\left(f(x^{(i)}) - y^{(i)}\\right)^2 $$\n",
    "- The object of this program is to minimize this function.\n",
    "- In the matrix form: $$ J = \\frac{1}{2m} \\sum \\left(X\\theta - y\\right)^2 $$"
   ]
  },
  {
   "cell_type": "code",
   "execution_count": 8,
   "metadata": {},
   "outputs": [],
   "source": [
    "def cost_function(data_x, data_y, parameters):\n",
    "    \"\"\" Returns the cost function for our model.\n",
    "\n",
    "    \"\"\"\n",
    "    # Residual sum of squares\n",
    "    rss = np.sum((data_x @ parameters - data_y) ** 2)\n",
    "\n",
    "    # Number of rows times 2\n",
    "    nb_rows_x2 = 2 * data_x.shape[0]\n",
    "\n",
    "    return rss / nb_rows_x2"
   ]
  },
  {
   "cell_type": "code",
   "execution_count": 9,
   "metadata": {},
   "outputs": [
    {
     "name": "stdout",
     "output_type": "stream",
     "text": [
      "1482.7670588149806\n"
     ]
    }
   ],
   "source": [
    "# show cost function for initial parameters\n",
    "print(cost_function(X, Y, init_theta))"
   ]
  },
  {
   "cell_type": "markdown",
   "metadata": {},
   "source": [
    "# Minimization algorithm :\n",
    "\n",
    "- gradient descent algorithm : $$ \\theta = \\theta - \\alpha \\; \\nabla J(\\theta) $$\n",
    "- gradient : $$ \\nabla J(\\theta) = \\nabla J(a, b) = \\left[\\begin{array}{ccc} \\frac{\\partial J(a, b)}{\\partial a} \\\\ \\frac{\\partial J(a, b)}{\\partial b} \\end{array}\\right] = \\frac{}{} X^{T} \\left(X \\theta - y\\right)$$"
   ]
  },
  {
   "cell_type": "code",
   "execution_count": 10,
   "metadata": {},
   "outputs": [],
   "source": [
    "def gradient(data_x, data_y, parameters):\n",
    "    \"\"\" Returns gradient of a function.\n",
    "\n",
    "    \"\"\"\n",
    "    return data_x.T @ (data_x @ parameters - data_y) / data_x.shape[0]\n",
    "\n",
    "\n",
    "def gradient_descent(data_x, data_y, parameters, learn_rate, nb_iterations):\n",
    "    \"\"\" Finding a local minimum of a differentiable function by gradient\n",
    "    descent algorithm.\n",
    "\n",
    "    \"\"\"\n",
    "\n",
    "    # Cost history\n",
    "    cost_tracking = np.zeros(nb_iterations)\n",
    "\n",
    "    for _i in range(nb_iterations):\n",
    "        parameters -= learn_rate * gradient(data_x, data_y, parameters)\n",
    "        # recording the cost for each iteration\n",
    "        cost_tracking[_i] = cost_function(data_x, data_y, parameters)\n",
    "\n",
    "    return parameters, cost_tracking"
   ]
  },
  {
   "cell_type": "code",
   "execution_count": null,
   "metadata": {},
   "outputs": [],
   "source": []
  }
 ],
 "metadata": {
  "kernelspec": {
   "display_name": "Python 3",
   "language": "python",
   "name": "python3"
  },
  "language_info": {
   "codemirror_mode": {
    "name": "ipython",
    "version": 3
   },
   "file_extension": ".py",
   "mimetype": "text/x-python",
   "name": "python",
   "nbconvert_exporter": "python",
   "pygments_lexer": "ipython3",
   "version": "3.8.5"
  }
 },
 "nbformat": 4,
 "nbformat_minor": 4
}

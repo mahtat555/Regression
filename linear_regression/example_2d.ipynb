{
 "cells": [
  {
   "cell_type": "markdown",
   "metadata": {},
   "source": [
    "# Linear Regression\n",
    "\n",
    "`In this exercise, we will extract the four fundamental notions for\n",
    "supervised learning, through an example of linear regression on\n",
    "two-dimensional data.`\n"
   ]
  },
  {
   "cell_type": "code",
   "execution_count": 27,
   "metadata": {},
   "outputs": [],
   "source": [
    "# Import the necessary packages\n",
    "\n",
    "import numpy as np\n",
    "import matplotlib.pyplot as plt\n",
    "from sklearn.datasets import make_regression\n"
   ]
  },
  {
   "cell_type": "markdown",
   "metadata": {},
   "source": [
    "# 1. Dataset : (X, y) ;  m = 100,  n = 1"
   ]
  },
  {
   "cell_type": "code",
   "execution_count": 28,
   "metadata": {},
   "outputs": [
    {
     "data": {
      "image/png": "[encoded data removed]",
      "text/plain": [
       "<Figure size 432x288 with 1 Axes>"
      ]
     },
     "metadata": {
      "needs_background": "light"
     },
     "output_type": "display_data"
    }
   ],
   "source": [
    "np.random.seed(0)\n",
    "x, y = make_regression(n_samples=100, n_features=1, noise=10)\n",
    "\n",
    "# show the dataset\n",
    "plt.title(\"dataset\")\n",
    "fig_1 = plt.scatter(x, y)"
   ]
  },
  {
   "cell_type": "code",
   "execution_count": 29,
   "metadata": {},
   "outputs": [],
   "source": [
    "# Transform the dataset into matrices.\n",
    "# That is used for writing the equations in the matrix form.\n",
    "X = np.hstack((x, np.ones(x.shape)))\n",
    "y = y.reshape(y.shape[0], 1)"
   ]
  },
  {
   "cell_type": "markdown",
   "metadata": {},
   "source": [
    "# 2. Model :\n",
    "\n",
    "- Linear function : $$ f(x) = a x + b $$\n",
    "\n",
    "- The role of the machine is to find the parameters $a$ and $b$\n",
    "\n",
    "- In the matrix form:\n",
    "$$F = X \\theta ; \\quad \\text{with} \\quad X = \\left[\\begin{array}{ccc}x^{1} & 1 \\\\ \\vdots & \\vdots\\\\ x^{m} & 1\\end{array}\\right] \\quad \\text{and} \\quad \\theta = \\left[\\begin{array}{ccc}a \\\\ b \\end{array}\\right]$$"
   ]
  },
  {
   "cell_type": "code",
   "execution_count": 30,
   "metadata": {},
   "outputs": [],
   "source": [
    "def model(X, theta):\n",
    "    \"\"\" This function returns the linear model\n",
    "\n",
    "    \"\"\"\n",
    "    return X @ theta"
   ]
  },
  {
   "cell_type": "code",
   "execution_count": 31,
   "metadata": {},
   "outputs": [
    {
     "data": {
      "image/png": "[encoded data removed]",
      "text/plain": [
       "<Figure size 432x288 with 1 Axes>"
      ]
     },
     "metadata": {
      "needs_background": "light"
     },
     "output_type": "display_data"
    }
   ],
   "source": [
    "# initial parameters\n",
    "init_theta = np.random.randn(2, 1)\n",
    "\n",
    "# initial model\n",
    "init_model = model(X, init_theta)\n",
    "\n",
    "# plot initial model\n",
    "plt.title(\"initial model\")\n",
    "plt.scatter(x, y)\n",
    "fig_2 = plt.plot(x, init_model, c='g')"
   ]
  },
  {
   "cell_type": "markdown",
   "metadata": {},
   "source": [
    "# 3. Cost function :\n",
    "\n",
    "- Residual sum of squares : $$ J(a, b) = \\frac{1}{2m} \\sum_{i = 1}^{m} \\left(f(x^{(i)}) - y^{(i)}\\right)^2 $$\n",
    "- The object of this program is to minimize this function.\n",
    "- In the matrix form: $$ J = \\frac{1}{2m} \\sum \\left(X\\theta - y\\right)^2 $$"
   ]
  },
  {
   "cell_type": "code",
   "execution_count": 32,
   "metadata": {},
   "outputs": [],
   "source": [
    "def cost_function(X, y, theta):\n",
    "    \"\"\" Returns the cost function for our model.\n",
    "\n",
    "    \"\"\"\n",
    "    # Residual sum of squares\n",
    "    rss = np.sum((X @ theta - y) ** 2)\n",
    "\n",
    "    # Number of rows times 2\n",
    "    nb_rows_x2 = 2 * X.shape[0]\n",
    "\n",
    "    return rss / nb_rows_x2"
   ]
  },
  {
   "cell_type": "code",
   "execution_count": 33,
   "metadata": {},
   "outputs": [
    {
     "name": "stdout",
     "output_type": "stream",
     "text": [
      "1009.8259477174702\n"
     ]
    }
   ],
   "source": [
    "# show cost function for initial parameters\n",
    "print(cost_function(X, y, init_theta))"
   ]
  },
  {
   "cell_type": "markdown",
   "metadata": {},
   "source": [
    "# 4. Minimization algorithm :\n",
    "\n",
    "- gradient descent algorithm : $$ \\theta = \\theta - \\alpha \\; \\nabla J(\\theta) $$\n",
    "- gradient : $$ \\nabla J(\\theta) = \\nabla J(a, b) = \\left[\\begin{array}{ccc} \\frac{\\partial J(a, b)}{\\partial a} \\\\ \\frac{\\partial J(a, b)}{\\partial b} \\end{array}\\right] = \\frac{}{} X^{T} \\left(X \\theta - y\\right)$$"
   ]
  },
  {
   "cell_type": "code",
   "execution_count": 34,
   "metadata": {},
   "outputs": [],
   "source": [
    "def gradient(X, y, theta):\n",
    "    \"\"\" Returns gradient of a function.\n",
    "\n",
    "    \"\"\"\n",
    "    return X.T @ (X @ theta - y) / X.shape[0]\n",
    "\n",
    "\n",
    "def gradient_descent(X, y, theta, learn_rate, nb_iterations):\n",
    "    \"\"\" Finding a local minimum of a differentiable function by gradient\n",
    "    descent algorithm.\n",
    "\n",
    "    \"\"\"\n",
    "\n",
    "    # Cost history\n",
    "    cost_tracking = np.zeros(nb_iterations)\n",
    "\n",
    "    for _i in range(nb_iterations):\n",
    "        theta -= learn_rate * gradient(X, y, theta)\n",
    "        # recording the cost for each iteration\n",
    "        cost_tracking[_i] = cost_function(X, y, theta)\n",
    "\n",
    "    return theta, cost_tracking"
   ]
  },
  {
   "cell_type": "markdown",
   "metadata": {},
   "source": [
    "## 4.1 Training"
   ]
  },
  {
   "cell_type": "code",
   "execution_count": 35,
   "metadata": {},
   "outputs": [
    {
     "name": "stdout",
     "output_type": "stream",
     "text": [
      "57.08574532796593\n"
     ]
    },
    {
     "data": {
      "image/png": "[encoded data removed]",
      "text/plain": [
       "<Figure size 432x288 with 1 Axes>"
      ]
     },
     "metadata": {
      "needs_background": "light"
     },
     "output_type": "display_data"
    }
   ],
   "source": [
    "# learning rate\n",
    "learn_rate = 0.01\n",
    "\n",
    "# number of iterations\n",
    "number_iterations = 1_000\n",
    "\n",
    "# final parameters for our model\n",
    "final_params, cost_tracking = gradient_descent(\n",
    "    X, y, init_theta, learn_rate, number_iterations)\n",
    "\n",
    "# final model\n",
    "final_model = model(X, final_params)\n",
    "\n",
    "# show cost function for final parameters\n",
    "print(cost_function(X, y, final_params))\n",
    "\n",
    "# plot final model\n",
    "plt.title(\"final model\")\n",
    "plt.scatter(x, y)\n",
    "fig_3 = plt.plot(x, final_model, c='r')"
   ]
  },
  {
   "cell_type": "markdown",
   "metadata": {},
   "source": [
    "## 4.2 learning curve "
   ]
  },
  {
   "cell_type": "code",
   "execution_count": 36,
   "metadata": {},
   "outputs": [
    {
     "data": {
      "text/plain": [
       "Text(0.5, 1.0, 'cost tracking')"
      ]
     },
     "execution_count": 36,
     "metadata": {},
     "output_type": "execute_result"
    },
    {
     "data": {
      "image/png": "[encoded data removed]",
      "text/plain": [
       "<Figure size 432x288 with 1 Axes>"
      ]
     },
     "metadata": {
      "needs_background": "light"
     },
     "output_type": "display_data"
    }
   ],
   "source": [
    "# plot Cost history\n",
    "fig_4 = plt.plot(range(number_iterations), cost_tracking)\n",
    "plt.title(\"cost tracking\")"
   ]
  },
  {
   "cell_type": "markdown",
   "metadata": {},
   "source": [
    "## 4.3 Coefficient of determination"
   ]
  },
  {
   "cell_type": "code",
   "execution_count": 37,
   "metadata": {},
   "outputs": [],
   "source": [
    "def coefficient_determination(y, prediction):\n",
    "    \"\"\" Coefficient of determination.\n",
    "\n",
    "    This function measures the quality of the prediction of linear regression.\n",
    "\n",
    "    \"\"\"\n",
    "    sum_numerator = np.sum((y - prediction) ** 2)\n",
    "    sum_denominator = np.sum((y - prediction.mean()) ** 2)\n",
    "    return 1 - sum_numerator / sum_denominator"
   ]
  },
  {
   "cell_type": "code",
   "execution_count": 39,
   "metadata": {},
   "outputs": [
    {
     "name": "stdout",
     "output_type": "stream",
     "text": [
      "0.9417294705102971\n"
     ]
    }
   ],
   "source": [
    "# show the coefficient of determination for our model\n",
    "print(coefficient_determination(y, final_model))"
   ]
  }
 ],
 "metadata": {
  "kernelspec": {
   "display_name": "Python 3",
   "language": "python",
   "name": "python3"
  },
  "language_info": {
   "codemirror_mode": {
    "name": "ipython",
    "version": 3
   },
   "file_extension": ".py",
   "mimetype": "text/x-python",
   "name": "python",
   "nbconvert_exporter": "python",
   "pygments_lexer": "ipython3",
   "version": "3.8.5"
  }
 },
 "nbformat": 4,
 "nbformat_minor": 4
}

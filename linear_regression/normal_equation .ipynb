{
 "cells": [
  {
   "cell_type": "markdown",
   "metadata": {},
   "source": [
    "# The normal equation\n",
    "\n",
    "### 1. Dataset\n",
    "\n",
    "Let $\\quad X \\in \\mathbb{R}^{m \\times (n + 1)} \\quad \\text{and} \\quad y \\in  \\mathbb{R}^{m}$\n",
    "$$X = \\left[\\begin{array}{c}x^{1}\\\\ \\vdots\\\\ x^{m} \\end{array}\\right] \\quad \\text{and} \\quad y = \\left[\\begin{array}{c}y_1 \\\\ \\vdots \\\\ y_m \\end{array}\\right]$$\n",
    "\n",
    "### 2. Model\n",
    "\n",
    "Let $\\quad \\theta \\in \\mathbb{R}^{n+1} \\quad\\text{and}\\quad \\forall i \\in \\{1, \\cdots, m\\},\\ \\ x^i \\in \\mathbb{R}^{n+1}$\n",
    "$$ f\\left(x^{i}\\right) \\ =\\ x^{i} \\cdot \\theta\\ ; \\quad \\theta =\\left[\\begin{array}{c}a_n \\\\ \\vdots \\\\ a_0 \\end{array}\\right]\\ ; \\quad x^{i} = \\left[\\begin{array}{c}x_{1}^{i} \\\\ \\vdots \\\\ x_{n}^{i} \\\\ 1 \\end{array}\\right]$$\n",
    "\n",
    "**# The role of the machine is to find the parameters $\\theta$**\n",
    "\n",
    "- In the matrix form:\n",
    "$$F = X \\theta$$\n",
    "\n",
    "### 3. Cost function\n",
    "\n",
    "- Residual sum of squares : \n",
    "$$ J = \\frac{1}{2m} \\sum_{i = 1}^{m} \\left(f(x^{i}) - y_i\\right)^2 $$\n",
    "\n",
    "**# The object of this program is to minimize this function.**\n",
    "\n",
    "- In the matrix form: $$ J\\ =\\ \\frac{1}{2m} \\left(X \\theta - y\\right)^2 $$\n",
    "\n",
    "### 4. Minimization algorithm\n",
    "\n",
    "$$\n",
    "\\begin{split}\n",
    "\\textrm{min}\\left\\{J(\\theta) \\in \\mathbb{R} \\ |\\ \\theta \\in \\mathbb{R}^{n+1} \\right\\}\n",
    "& \\quad\\Leftrightarrow\\quad \n",
    "\\frac{\\partial J}{\\partial\\theta}\\ =\\ 0  \\\\\n",
    "& \\quad\\Leftrightarrow\\quad \n",
    "\\theta\\ =\\ \\left(X^T X\\right)^{-1} X ^T y\n",
    "\\end{split}\n",
    "$$\n"
   ]
  },
  {
   "cell_type": "code",
   "execution_count": 1,
   "metadata": {},
   "outputs": [],
   "source": [
    "import numpy as np\n",
    "import matplotlib.pyplot as plt"
   ]
  },
  {
   "cell_type": "code",
   "execution_count": 2,
   "metadata": {},
   "outputs": [
    {
     "data": {
      "image/png": "[encoded data removed]",
      "text/plain": [
       "<Figure size 432x288 with 1 Axes>"
      ]
     },
     "metadata": {
      "needs_background": "light"
     },
     "output_type": "display_data"
    }
   ],
   "source": [
    "# Dataset\n",
    "\n",
    "def linear(n_samples, n_features, noise=0.0, seed=None):\n",
    "    \"\"\" Generate the datasets for linear regression.\n",
    "\n",
    "    \"\"\"\n",
    "    if seed is not None:\n",
    "        np.random.seed(seed)\n",
    "    params = np.random.randint(20, 100, n_features)\n",
    "    noise = np.random.randn(n_samples) * noise\n",
    "    features = np.random.randn(n_samples, n_features)\n",
    "    target = (features @ params) + noise\n",
    "    return features, target\n",
    "\n",
    "\n",
    "X, y = linear(n_samples=100, n_features=1, noise=10, seed=0)\n",
    "\n",
    "# plot the dataset\n",
    "_ = plt.scatter(X, y)"
   ]
  },
  {
   "cell_type": "code",
   "execution_count": 3,
   "metadata": {},
   "outputs": [
    {
     "name": "stdout",
     "output_type": "stream",
     "text": [
      "params = [63.50109798  1.01116374]\n"
     ]
    },
    {
     "data": {
      "image/png": "[encoded data removed]",
      "text/plain": [
       "<Figure size 432x288 with 1 Axes>"
      ]
     },
     "metadata": {
      "needs_background": "light"
     },
     "output_type": "display_data"
    }
   ],
   "source": [
    "# Find the parameters\n",
    "\n",
    "def normal_equation(X, y):\n",
    "    X = np.concatenate((X, np.ones(X.shape)), axis=1)\n",
    "    params = np.linalg.inv(X.T @ X) @ X.T @ y\n",
    "    target = X @ params\n",
    "    return params, target\n",
    "\n",
    "\n",
    "params, target = normal_equation(X, y)\n",
    "print(\"params =\", params)\n",
    "\n",
    "# plot result\n",
    "plt.scatter(X, y)\n",
    "_ = plt.plot(X, target, c='r')"
   ]
  },
  {
   "cell_type": "code",
   "execution_count": null,
   "metadata": {},
   "outputs": [],
   "source": []
  }
 ],
 "metadata": {
  "kernelspec": {
   "display_name": "Python 3",
   "language": "python",
   "name": "python3"
  },
  "language_info": {
   "codemirror_mode": {
    "name": "ipython",
    "version": 3
   },
   "file_extension": ".py",
   "mimetype": "text/x-python",
   "name": "python",
   "nbconvert_exporter": "python",
   "pygments_lexer": "ipython3",
   "version": "3.8.5"
  }
 },
 "nbformat": 4,
 "nbformat_minor": 4
}
